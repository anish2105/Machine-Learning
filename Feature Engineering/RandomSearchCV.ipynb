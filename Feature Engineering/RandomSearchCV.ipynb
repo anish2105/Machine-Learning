{
 "cells": [
  {
   "cell_type": "code",
   "execution_count": 1,
   "metadata": {},
   "outputs": [],
   "source": [
    "import numpy as np\n",
    "import pandas as pd"
   ]
  },
  {
   "cell_type": "code",
   "execution_count": 2,
   "metadata": {},
   "outputs": [],
   "source": [
    "data_url = \"http://lib.stat.cmu.edu/datasets/boston\"\n",
    "raw_df = pd.read_csv(data_url , sep = '\\s+' , skiprows = 22 , header = None)\n",
    "data = np.hstack([raw_df.values[::2 , :] , raw_df.values[1::2 , :2]])\n",
    "target = raw_df.values[1::2 , 2]"
   ]
  },
  {
   "cell_type": "code",
   "execution_count": 3,
   "metadata": {},
   "outputs": [],
   "source": [
    "#splitting data into train and test\n",
    "from sklearn.model_selection import train_test_split\n",
    "x_train, x_test, y_train, y_test = train_test_split(data,target,test_size=0.3)"
   ]
  },
  {
   "cell_type": "markdown",
   "metadata": {},
   "source": [
    "Building a random forest model"
   ]
  },
  {
   "cell_type": "code",
   "execution_count": 4,
   "metadata": {},
   "outputs": [
    {
     "name": "stdout",
     "output_type": "stream",
     "text": [
      "Training score:  0.8525184238966521\n",
      "Test score:  0.7788287379003003\n"
     ]
    }
   ],
   "source": [
    "from sklearn import ensemble\n",
    "dt = ensemble.RandomForestRegressor(n_estimators = 5 , max_depth = 3)\n",
    "dt.fit(x_train , y_train)\n",
    "print('Training score: ' , dt.score(x_train , y_train))\n",
    "print('Test score: ',dt.score(x_test , y_test))"
   ]
  },
  {
   "cell_type": "markdown",
   "metadata": {},
   "source": [
    "Cross validation"
   ]
  },
  {
   "cell_type": "code",
   "execution_count": 5,
   "metadata": {},
   "outputs": [
    {
     "data": {
      "text/plain": [
       "0.7582625655584981"
      ]
     },
     "execution_count": 5,
     "metadata": {},
     "output_type": "execute_result"
    }
   ],
   "source": [
    "from sklearn.model_selection import cross_val_score\n",
    "scores1 = cross_val_score(ensemble.RandomForestRegressor(n_estimators=5,max_depth=3),x_train,y_train,cv=10)\n",
    "np.average(scores1)"
   ]
  },
  {
   "cell_type": "code",
   "execution_count": 6,
   "metadata": {},
   "outputs": [
    {
     "data": {
      "text/plain": [
       "{'bootstrap': True,\n",
       " 'ccp_alpha': 0.0,\n",
       " 'criterion': 'mse',\n",
       " 'max_depth': None,\n",
       " 'max_features': 'auto',\n",
       " 'max_leaf_nodes': None,\n",
       " 'max_samples': None,\n",
       " 'min_impurity_decrease': 0.0,\n",
       " 'min_impurity_split': None,\n",
       " 'min_samples_leaf': 1,\n",
       " 'min_samples_split': 2,\n",
       " 'min_weight_fraction_leaf': 0.0,\n",
       " 'n_estimators': 100,\n",
       " 'n_jobs': None,\n",
       " 'oob_score': False,\n",
       " 'random_state': None,\n",
       " 'verbose': 0,\n",
       " 'warm_start': False}"
      ]
     },
     "execution_count": 6,
     "metadata": {},
     "output_type": "execute_result"
    }
   ],
   "source": [
    "ensemble.RandomForestRegressor().get_params()"
   ]
  },
  {
   "cell_type": "code",
   "execution_count": 7,
   "metadata": {},
   "outputs": [
    {
     "data": {
      "text/plain": [
       "0.8650088963436182"
      ]
     },
     "execution_count": 7,
     "metadata": {},
     "output_type": "execute_result"
    }
   ],
   "source": [
    "model=ensemble.RandomForestRegressor()\n",
    "from sklearn.model_selection import GridSearchCV\n",
    "parameters=[{'n_estimators':[20,30,40,60,100], 'max_depth':  \n",
    "             [5,10,15,20]},\n",
    "             {'n_estimators':[20,30,40,60,100], 'max_depth': \n",
    "             [5,10,15,20],'max_features':[2,5,8]}]\n",
    "             \n",
    "grid_search = GridSearchCV(estimator=model,\n",
    "                           param_grid=parameters,\n",
    "                           cv=10,\n",
    "                           n_jobs=-1)\n",
    "                           \n",
    "grid = grid_search.fit(x_train,y_train)\n",
    "grid.best_score_"
   ]
  },
  {
   "cell_type": "code",
   "execution_count": 8,
   "metadata": {},
   "outputs": [
    {
     "data": {
      "text/plain": [
       "{'max_depth': 20, 'max_features': 5, 'n_estimators': 100}"
      ]
     },
     "execution_count": 8,
     "metadata": {},
     "output_type": "execute_result"
    }
   ],
   "source": [
    "grid.best_params_"
   ]
  },
  {
   "cell_type": "code",
   "execution_count": 9,
   "metadata": {},
   "outputs": [
    {
     "name": "stdout",
     "output_type": "stream",
     "text": [
      "training score:  0.9795252365773697\n",
      "test score:  0.8536906842659009\n"
     ]
    }
   ],
   "source": [
    "#trying the best hyperparameters suggested by GridSearchCV\n",
    "#{'max_depth': 10, 'max_features': 5, 'n_estimators': 100}\n",
    "\n",
    "from sklearn import ensemble\n",
    "dt_1=ensemble.RandomForestRegressor(n_estimators=100, max_depth=10, max_features = 5)\n",
    "dt_1.fit(x_train,y_train)\n",
    "print('training score: ', dt_1.score(x_train,y_train))\n",
    "print('test score: ',dt_1.score(x_test,y_test))"
   ]
  },
  {
   "cell_type": "markdown",
   "metadata": {},
   "source": [
    "# Random Search CV"
   ]
  },
  {
   "cell_type": "code",
   "execution_count": 10,
   "metadata": {},
   "outputs": [
    {
     "data": {
      "text/plain": [
       "0.8628749222275539"
      ]
     },
     "execution_count": 10,
     "metadata": {},
     "output_type": "execute_result"
    }
   ],
   "source": [
    "from sklearn.model_selection import RandomizedSearchCV\n",
    "model=ensemble.RandomForestRegressor()\n",
    "param_grid=[{'n_estimators':[20,30,40,60,100], 'max_depth':[5,10,15,20] \n",
    "          },{'n_estimators':[20,30,40,60,100], 'max_depth':[5,10,15,20]\n",
    "             ,'max_features':[2,5,8]}]\n",
    "\n",
    "rnd_search = RandomizedSearchCV(model, param_grid, cv=10, \n",
    "                                          return_train_score=True)\n",
    "rnd_search.fit(x_train,y_train)\n",
    "rnd_search.best_score_"
   ]
  },
  {
   "cell_type": "code",
   "execution_count": 11,
   "metadata": {},
   "outputs": [
    {
     "data": {
      "text/plain": [
       "{'n_estimators': 100, 'max_features': 5, 'max_depth': 20}"
      ]
     },
     "execution_count": 11,
     "metadata": {},
     "output_type": "execute_result"
    }
   ],
   "source": [
    "rnd_search.best_params_"
   ]
  },
  {
   "cell_type": "code",
   "execution_count": 12,
   "metadata": {},
   "outputs": [
    {
     "name": "stdout",
     "output_type": "stream",
     "text": [
      "training score:  0.9756366227108105\n",
      "test score:  0.8375252928431178\n"
     ]
    }
   ],
   "source": [
    "from sklearn import ensemble\n",
    "dt=ensemble.RandomForestRegressor(n_estimators=20, max_depth=10, max_features = 8)\n",
    "dt.fit(x_train,y_train)\n",
    "print('training score: ', dt.score(x_train,y_train))\n",
    "print('test score: ',dt.score(x_test,y_test))"
   ]
  },
  {
   "cell_type": "markdown",
   "metadata": {},
   "source": [
    "# Save and Load ML Models"
   ]
  },
  {
   "cell_type": "markdown",
   "metadata": {},
   "source": [
    "1) Finalize Your Model with pickle\n",
    "\n",
    "2) Finalize Your Model with Joblib"
   ]
  },
  {
   "cell_type": "markdown",
   "metadata": {},
   "source": [
    "# 1) Finalize Your Model with pickle"
   ]
  },
  {
   "cell_type": "code",
   "execution_count": 13,
   "metadata": {},
   "outputs": [],
   "source": [
    "import pickle"
   ]
  },
  {
   "cell_type": "code",
   "execution_count": 14,
   "metadata": {},
   "outputs": [],
   "source": [
    "pickle.dump(dt_1 , open('model.pkl','wb'))"
   ]
  },
  {
   "cell_type": "code",
   "execution_count": 15,
   "metadata": {},
   "outputs": [],
   "source": [
    "pickled_model = pickle.load(open('model.pkl' , 'rb'))"
   ]
  },
  {
   "cell_type": "code",
   "execution_count": 16,
   "metadata": {},
   "outputs": [
    {
     "data": {
      "text/plain": [
       "array([43.58069167, 19.52357399, 27.15505211, 17.23942702, 22.55740799,\n",
       "       10.12193991, 34.61857143, 33.27361833, 21.55705926, 24.16831192,\n",
       "       44.1668    , 16.84603333, 32.166     , 14.63719455, 23.69379114,\n",
       "       15.25694476, 19.98922062, 17.51224718, 20.23081833, 31.11230525,\n",
       "       19.13205402, 27.47703824, 24.33688184, 37.15402222, 36.02341111,\n",
       "       31.56343579, 25.54851305, 17.69234067, 25.9974132 , 26.51791454,\n",
       "       19.4706914 , 14.13353146, 19.60444082, 20.33973998, 19.34043055,\n",
       "       10.29688663, 31.97216746, 15.83761673,  9.72684643, 36.69133333,\n",
       "       10.00352029, 23.11966903, 21.33507661, 18.87388846, 17.90959401,\n",
       "       11.67946777, 14.94841172, 17.18894824, 23.35190528, 20.66114448,\n",
       "       20.62169932, 23.73528639, 34.54464683, 13.54950073, 17.27531784,\n",
       "       21.02262107, 34.52913651, 19.59898463, 21.69206172, 32.30230952,\n",
       "       23.96570671, 24.4135795 , 14.67286911, 16.16366145, 14.22009699,\n",
       "       24.38186736, 10.00277121, 20.75657514, 13.37336797, 19.4080296 ,\n",
       "       21.35349899, 19.9229595 , 35.26798023, 11.66453874, 14.5117592 ,\n",
       "       20.89822353, 20.79407017, 24.15403515, 20.95148074, 17.36290719,\n",
       "       20.24453268, 20.24185111, 15.93717358, 24.49849885, 24.52329895,\n",
       "       24.12445587, 22.1498692 , 30.28884572, 21.09582284, 19.17765061,\n",
       "       31.16007222, 23.79973992, 19.65833806, 33.39365873, 23.97720248,\n",
       "       20.67634277, 14.11104586, 18.39111867, 31.87206984, 20.24136526,\n",
       "       15.28812205, 17.06995972, 31.15496496, 22.07384242, 20.7205737 ,\n",
       "       22.17798403, 31.05336821, 14.35876669, 21.50831306, 25.41187482,\n",
       "       24.9961564 , 21.87653917, 23.32881449, 26.67442753, 24.6067898 ,\n",
       "       24.7749204 , 25.83558322, 30.21241288, 17.9753658 , 16.08799251,\n",
       "       19.58331321, 21.20675191, 21.15701462, 21.07238806, 19.74942555,\n",
       "       13.01618819, 25.49226829, 28.08347969, 18.43412115, 33.42516118,\n",
       "       47.433     , 19.77978339, 20.22175577, 21.71010094, 21.74874358,\n",
       "       10.13593009, 32.75388095, 25.29868374, 41.327     , 23.23847246,\n",
       "       31.34934434, 19.72352189, 20.20111812, 15.33213762, 37.57278889,\n",
       "       30.61637558, 21.66757418, 19.23202021, 11.08544433, 15.92794133,\n",
       "       24.44549613, 23.25801102])"
      ]
     },
     "execution_count": 16,
     "metadata": {},
     "output_type": "execute_result"
    }
   ],
   "source": [
    "pickled_model.predict(x_test)"
   ]
  },
  {
   "cell_type": "markdown",
   "metadata": {},
   "source": [
    "# Finalize Your Model with Joblib"
   ]
  },
  {
   "cell_type": "markdown",
   "metadata": {},
   "source": [
    "pip install joblib"
   ]
  },
  {
   "cell_type": "code",
   "execution_count": 17,
   "metadata": {},
   "outputs": [
    {
     "data": {
      "text/plain": [
       "['joblib_model']"
      ]
     },
     "execution_count": 17,
     "metadata": {},
     "output_type": "execute_result"
    }
   ],
   "source": [
    "import joblib\n",
    "joblib.dump(dt_1 , 'joblib_model')"
   ]
  },
  {
   "cell_type": "code",
   "execution_count": 18,
   "metadata": {},
   "outputs": [],
   "source": [
    "jobLib = joblib.load('joblib_model')"
   ]
  },
  {
   "cell_type": "code",
   "execution_count": 19,
   "metadata": {},
   "outputs": [
    {
     "data": {
      "text/plain": [
       "array([43.58069167, 19.52357399, 27.15505211, 17.23942702, 22.55740799,\n",
       "       10.12193991, 34.61857143, 33.27361833, 21.55705926, 24.16831192,\n",
       "       44.1668    , 16.84603333, 32.166     , 14.63719455, 23.69379114,\n",
       "       15.25694476, 19.98922062, 17.51224718, 20.23081833, 31.11230525,\n",
       "       19.13205402, 27.47703824, 24.33688184, 37.15402222, 36.02341111,\n",
       "       31.56343579, 25.54851305, 17.69234067, 25.9974132 , 26.51791454,\n",
       "       19.4706914 , 14.13353146, 19.60444082, 20.33973998, 19.34043055,\n",
       "       10.29688663, 31.97216746, 15.83761673,  9.72684643, 36.69133333,\n",
       "       10.00352029, 23.11966903, 21.33507661, 18.87388846, 17.90959401,\n",
       "       11.67946777, 14.94841172, 17.18894824, 23.35190528, 20.66114448,\n",
       "       20.62169932, 23.73528639, 34.54464683, 13.54950073, 17.27531784,\n",
       "       21.02262107, 34.52913651, 19.59898463, 21.69206172, 32.30230952,\n",
       "       23.96570671, 24.4135795 , 14.67286911, 16.16366145, 14.22009699,\n",
       "       24.38186736, 10.00277121, 20.75657514, 13.37336797, 19.4080296 ,\n",
       "       21.35349899, 19.9229595 , 35.26798023, 11.66453874, 14.5117592 ,\n",
       "       20.89822353, 20.79407017, 24.15403515, 20.95148074, 17.36290719,\n",
       "       20.24453268, 20.24185111, 15.93717358, 24.49849885, 24.52329895,\n",
       "       24.12445587, 22.1498692 , 30.28884572, 21.09582284, 19.17765061,\n",
       "       31.16007222, 23.79973992, 19.65833806, 33.39365873, 23.97720248,\n",
       "       20.67634277, 14.11104586, 18.39111867, 31.87206984, 20.24136526,\n",
       "       15.28812205, 17.06995972, 31.15496496, 22.07384242, 20.7205737 ,\n",
       "       22.17798403, 31.05336821, 14.35876669, 21.50831306, 25.41187482,\n",
       "       24.9961564 , 21.87653917, 23.32881449, 26.67442753, 24.6067898 ,\n",
       "       24.7749204 , 25.83558322, 30.21241288, 17.9753658 , 16.08799251,\n",
       "       19.58331321, 21.20675191, 21.15701462, 21.07238806, 19.74942555,\n",
       "       13.01618819, 25.49226829, 28.08347969, 18.43412115, 33.42516118,\n",
       "       47.433     , 19.77978339, 20.22175577, 21.71010094, 21.74874358,\n",
       "       10.13593009, 32.75388095, 25.29868374, 41.327     , 23.23847246,\n",
       "       31.34934434, 19.72352189, 20.20111812, 15.33213762, 37.57278889,\n",
       "       30.61637558, 21.66757418, 19.23202021, 11.08544433, 15.92794133,\n",
       "       24.44549613, 23.25801102])"
      ]
     },
     "execution_count": 19,
     "metadata": {},
     "output_type": "execute_result"
    }
   ],
   "source": [
    "jobLib.predict(x_test)"
   ]
  }
 ],
 "metadata": {
  "kernelspec": {
   "display_name": "Python 3",
   "language": "python",
   "name": "python3"
  },
  "language_info": {
   "codemirror_mode": {
    "name": "ipython",
    "version": 3
   },
   "file_extension": ".py",
   "mimetype": "text/x-python",
   "name": "python",
   "nbconvert_exporter": "python",
   "pygments_lexer": "ipython3",
   "version": "3.8.3"
  }
 },
 "nbformat": 4,
 "nbformat_minor": 4
}
